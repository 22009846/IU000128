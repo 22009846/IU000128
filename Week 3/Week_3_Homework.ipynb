{
 "cells": [
  {
   "cell_type": "markdown",
   "id": "068e6d03",
   "metadata": {},
   "source": [
    "# Dataset: https://www.robots.ox.ac.uk/~vgg/data/fgvc-aircraft/\n",
    "\n",
    "All code written by myself unless otherwise specified."
   ]
  },
  {
   "cell_type": "code",
   "execution_count": 1,
   "id": "6d4605bc",
   "metadata": {},
   "outputs": [
    {
     "data": {
      "application/javascript": [
       "\n",
       "/*\n",
       " * Enabling hard tabs for the notebook\n",
       " * (this is just a personal preference)\n",
       " * \n",
       " * Source: https://pirsquared.org/blog/indenting-tabs.html\n",
       " */\n",
       "\n",
       "IPython.tab_as_tab_everywhere = function(use_tabs) {\n",
       "\tif (use_tabs === undefined)\n",
       "\t\tuse_tabs = true;\n",
       "\n",
       "\t// Apply the setting to all current CodeMirror instances\n",
       "\tIPython.notebook.get_cells().map(\n",
       "\t\tfunction(c) {\n",
       "\t\t\treturn c.code_mirror.options.indentWithTabs=use_tabs;\n",
       "\t\t}\n",
       "\t);\n",
       "\t\n",
       "\t// Make sure new CodeMirror instances created in the future also use this setting\n",
       "\tCodeMirror.defaults.indentWithTabs=use_tabs;\n",
       "};\n",
       "\n",
       "IPython.tab_as_tab_everywhere()\n"
      ],
      "text/plain": [
       "<IPython.core.display.Javascript object>"
      ]
     },
     "metadata": {},
     "output_type": "display_data"
    }
   ],
   "source": [
    "%%javascript\n",
    "\n",
    "/*\n",
    " * Enabling hard tabs for the notebook\n",
    " * (this is just a personal preference)\n",
    " * \n",
    " * Source: https://pirsquared.org/blog/indenting-tabs.html\n",
    " */\n",
    "\n",
    "IPython.tab_as_tab_everywhere = function(use_tabs) {\n",
    "\tif (use_tabs === undefined)\n",
    "\t\tuse_tabs = true;\n",
    "\n",
    "\t// Apply the setting to all current CodeMirror instances\n",
    "\tIPython.notebook.get_cells().map(\n",
    "\t\tfunction(c) {\n",
    "\t\t\treturn c.code_mirror.options.indentWithTabs=use_tabs;\n",
    "\t\t}\n",
    "\t);\n",
    "\t\n",
    "\t// Make sure new CodeMirror instances created in the future also use this setting\n",
    "\tCodeMirror.defaults.indentWithTabs=use_tabs;\n",
    "};\n",
    "\n",
    "IPython.tab_as_tab_everywhere()"
   ]
  },
  {
   "cell_type": "code",
   "execution_count": 2,
   "id": "e00811e2",
   "metadata": {},
   "outputs": [],
   "source": [
    "\"\"\"\n",
    "Fetching the training and testing image filenames.\n",
    "\"\"\"\n",
    "\n",
    "with open('fgvc-aircraft-2013b\\\\data\\\\images_train.txt') as images_train_txt:\n",
    "\twith open('fgvc-aircraft-2013b\\\\data\\\\images_test.txt') as images_test_txt:\n",
    "\t\ttrain_filenames = images_train_txt.readlines()\n",
    "\t\ttest_filenames = images_test_txt.readlines()\n",
    "\n",
    "for i in range(0, len(train_filenames)):\n",
    "\ttrain_filenames[i] = train_filenames[i].strip()\n",
    "for i in range(0, len(test_filenames)):\n",
    "\ttest_filenames[i] = test_filenames[i].strip()"
   ]
  },
  {
   "cell_type": "code",
   "execution_count": 3,
   "id": "0739ff6d",
   "metadata": {},
   "outputs": [
    {
     "name": "stdout",
     "output_type": "stream",
     "text": [
      "1%       10%       20%       30%       40%       50%       60%       70%       80%       90%       100%\n",
      "#######################################################################################################\n"
     ]
    }
   ],
   "source": [
    "\"\"\"\n",
    "Storing the training and testing images.\n",
    "\"\"\"\n",
    "\n",
    "import os\n",
    "from matplotlib import image\n",
    "\n",
    "directory = 'fgvc-aircraft-2013b\\\\data\\\\images'\n",
    "\n",
    "num_of_images = len(train_filenames) + len(test_filenames)\n",
    "percent_complete = 0\n",
    "print('1%       10%       20%       30%       40%       50%       60%       70%       80%       90%       100%')\n",
    "def manageLoadingBar(count):\n",
    "\tglobal num_of_images, percent_complete\n",
    "\tif int((count / num_of_images) * 100) > percent_complete:\n",
    "\t\tpercent_complete = int((count / num_of_images) * 100)\n",
    "\t\tprint('#', end='')\n",
    "\n",
    "train_images = []\n",
    "test_images = []\n",
    "count = 0\n",
    "\n",
    "### TODO: Remove implicit conversions\n",
    "for filename in train_filenames:\n",
    "\ttry:\n",
    "\t\ttrain_images.append(image.imread(directory + '\\\\' + filename + '.jpg'))\n",
    "\texcept:\n",
    "\t\tfailed.append(filename + '.jpg')\n",
    "\n",
    "\tcount += 1\n",
    "\tmanageLoadingBar(count)\n",
    "\n",
    "for filename in test_filenames:\n",
    "\ttry:\n",
    "\t\ttest_images.append(image.imread(directory + '\\\\' + filename + '.jpg'))\n",
    "\texcept:\n",
    "\t\tfailed.append(filename + '.jpg')\n",
    "\n",
    "\tcount += 1\n",
    "\tmanageLoadingBar(count)\n",
    "###\n",
    "\n",
    "print('###') # Purely cosmetic"
   ]
  },
  {
   "cell_type": "code",
   "execution_count": 4,
   "id": "ccf9d3c6",
   "metadata": {
    "scrolled": true
   },
   "outputs": [
    {
     "name": "stdout",
     "output_type": "stream",
     "text": [
      "Image shape (695, 1024, 3) appears the most in train_images (627 times)\n",
      "Image shape (695, 1024, 3) appears the most in test_images (623 times)\n"
     ]
    }
   ],
   "source": [
    "\"\"\"\n",
    "Finding the most common image shape (size) among training and testing images.\n",
    "(Luckily they match.)\n",
    "\"\"\"\n",
    "\n",
    "from collections import OrderedDict\n",
    "\n",
    "def getMostCommonSize(flag):\n",
    "\tshapes = {}\n",
    "\n",
    "\tfor image in (train_images if flag else test_images):\n",
    "\t\tif image.shape in shapes.keys():\n",
    "\t\t\tshapes[image.shape] = shapes[image.shape] + 1\n",
    "\t\telse:\n",
    "\t\t\tshapes[image.shape] = 1\n",
    "\n",
    "\tmax_key = None\n",
    "\tmax_value = 0\n",
    "\tfor key, value in zip(shapes.keys(), shapes.values()):\n",
    "\t\tif value > max_value:\n",
    "\t\t\tmax_key = key\n",
    "\t\t\tmax_value = value\n",
    "\n",
    "\tprint('Image shape ' + str(max_key) + ' appears the most in ', end='')\n",
    "\tprint(('train_images' if flag else 'test_images'), end='')\n",
    "\tprint(' (' + str(max_value) + ' times)')\n",
    "\n",
    "getMostCommonSize(True)\n",
    "getMostCommonSize(False)"
   ]
  },
  {
   "cell_type": "code",
   "execution_count": 5,
   "id": "6077ccbb",
   "metadata": {},
   "outputs": [],
   "source": [
    "\"\"\"\n",
    "Filtering images with size (695, 1024, 3) from both training and testing image arrays.\n",
    "(See above for context.)\n",
    "\"\"\"\n",
    "\n",
    "for i in range(len(train_images) - 1, -1, -1):\n",
    "\tif train_images[i].shape != (695, 1024, 3):\n",
    "\t\tdel train_images[i]\n",
    "\t\tdel train_filenames[i] # As a reminder, len(train_images) == len(train_filenames)\n",
    "\n",
    "for i in range(len(test_images) - 1, -1, -1):\n",
    "\tif test_images[i].shape != (695, 1024, 3):\n",
    "\t\tdel test_images[i]\n",
    "\t\tdel test_filenames[i] # As a reminder, len(test_images) == len(test_filenames)"
   ]
  },
  {
   "cell_type": "code",
   "execution_count": 6,
   "id": "243560ab",
   "metadata": {},
   "outputs": [],
   "source": [
    "\"\"\"\n",
    "Storing the training and testing labels (in the same order as their corresponding images are stored).\n",
    "At this point, labels are stored as STRINGS.\n",
    "\"\"\"\n",
    "\n",
    "with open('fgvc-aircraft-2013b\\\\data\\\\images_variant_train.txt') as images_variant_train_txt:\n",
    "\twith open('fgvc-aircraft-2013b\\\\data\\\\images_variant_test.txt') as images_variant_test_txt:\n",
    "\t\ttrain_labels_raw = images_variant_train_txt.readlines()\n",
    "\t\ttest_labels_raw = images_variant_test_txt.readlines()\n",
    "\n",
    "train_labels = []\n",
    "test_labels = []\n",
    "\n",
    "def searchLabel(filename, flag):\n",
    "\tglobal train_labels_raw, test_labels_raw\n",
    "\tglobal train_labels, test_labels\n",
    "\tif flag:\n",
    "\t\tfor label in train_labels_raw:\n",
    "\t\t\tif label[:7] == filename:\n",
    "\t\t\t\ttrain_labels.append(label[8:].strip())\n",
    "\telse:\n",
    "\t\tfor label in test_labels_raw:\n",
    "\t\t\tif label[:7] == filename:\n",
    "\t\t\t\ttest_labels.append(label[8:].strip())\n",
    "\n",
    "for filename in train_filenames:\n",
    "\tsearchLabel(filename, True)\n",
    "for filename in test_filenames:\n",
    "\tsearchLabel(filename, False)"
   ]
  },
  {
   "cell_type": "code",
   "execution_count": 7,
   "id": "d9950919",
   "metadata": {},
   "outputs": [],
   "source": [
    "\"\"\"\n",
    "Storing all possible labels (class names).\n",
    "At this point, labels are stored as STRINGS.\n",
    "\"\"\"\n",
    "\n",
    "with open('fgvc-aircraft-2013b\\\\data\\\\variants.txt') as variants_txt:\n",
    "\tclass_names = variants_txt.readlines()\n",
    "\n",
    "for i in range(0, len(class_names)):\n",
    "\tclass_names[i] = class_names[i].strip()"
   ]
  },
  {
   "cell_type": "code",
   "execution_count": 8,
   "id": "efb424ac",
   "metadata": {},
   "outputs": [],
   "source": [
    "\"\"\"\n",
    "Creating two dictionaries; one to translate STRING class names to INTEGERS, and another for the reverse purpose.\n",
    "The former is used to train the model (see below) and the latter might be used for future expansions.\n",
    "\"\"\"\n",
    "\n",
    "class_stoi = {}\n",
    "class_itos = {}\n",
    "\n",
    "for i in range(0, len(class_names)):\n",
    "\tclass_stoi[class_names[i]] = i\n",
    "\tclass_itos[i] = class_names[i]"
   ]
  },
  {
   "cell_type": "code",
   "execution_count": 9,
   "id": "e5140fad",
   "metadata": {},
   "outputs": [],
   "source": [
    "\"\"\"\n",
    "Converting train_labels and test_labels to integer arrays.\n",
    "\"\"\"\n",
    "\n",
    "for i in range(0, len(train_labels)):\n",
    "\ttrain_labels[i] = class_stoi[train_labels[i]]\n",
    "for i in range(0, len(test_labels)):\n",
    "\ttest_labels[i] = class_stoi[test_labels[i]]"
   ]
  },
  {
   "cell_type": "code",
   "execution_count": 10,
   "id": "90224fe5",
   "metadata": {},
   "outputs": [],
   "source": [
    "\"\"\"\n",
    "Creating a model.\n",
    "\n",
    "Based on Coding Three course material.\n",
    "\n",
    "Comments are for my own benefit, but you can enjoy them as well. :)\n",
    "\"\"\"\n",
    "\n",
    "from tensorflow.keras import layers, models\n",
    "\n",
    "# Create a sequential model:\n",
    "model = models.Sequential()\n",
    "\n",
    "# Add a convolutional layer with 32 filters and a 3x3 kernel size\n",
    "# using the Rectified Linear Unit (ReLU) activation function\n",
    "# with a 695x1024 RGB image input\n",
    "model.add(layers.Conv2D(32, (3, 3), activation='relu', input_shape=(695, 1024, 3)))\n",
    "# Add a max pooling layer with a pool size of 2x2\n",
    "# (to prevent overfitting)\n",
    "model.add(layers.MaxPooling2D((2, 2)))\n",
    "\n",
    "# See above\n",
    "model.add(layers.Conv2D(64, (3, 3), activation='relu'))\n",
    "model.add(layers.MaxPooling2D((2, 2)))\n",
    "\n",
    "# See above\n",
    "model.add(layers.Conv2D(64, (3, 3), activation='relu'))\n",
    "# Flatten the output from the convolutional layers into a 1D array\n",
    "model.add(layers.Flatten())\n",
    "\n",
    "# Add a fully connected layer with 64 neurons\n",
    "# using the ReLU activation function (again)\n",
    "model.add(layers.Dense(64, activation='relu'))\n",
    "# Add the final, fully connected layer with 100 neurons,\n",
    "# which corresponds to the 100 class names\n",
    "model.add(layers.Dense(100))"
   ]
  },
  {
   "cell_type": "code",
   "execution_count": 11,
   "id": "05827f96",
   "metadata": {},
   "outputs": [],
   "source": [
    "\"\"\"\n",
    "Converting all the relevant arrays to numpy arrays.\n",
    "\"\"\"\n",
    "\n",
    "import numpy as np\n",
    "\n",
    "train_images = np.array(train_images)\n",
    "train_labels = np.array(train_labels)\n",
    "test_images = np.array(test_images)\n",
    "test_labels = np.array(test_labels)"
   ]
  },
  {
   "cell_type": "code",
   "execution_count": 12,
   "id": "466fc71a",
   "metadata": {},
   "outputs": [
    {
     "name": "stdout",
     "output_type": "stream",
     "text": [
      "Epoch 1/10\n",
      "20/20 [==============================] - 146s 7s/step - loss: 3029.4836 - accuracy: 0.0096 - val_loss: 4.6141 - val_accuracy: 0.0144\n",
      "Epoch 2/10\n",
      "20/20 [==============================] - 144s 7s/step - loss: 4.5128 - accuracy: 0.0223 - val_loss: 4.6406 - val_accuracy: 0.0112\n",
      "Epoch 3/10\n",
      "20/20 [==============================] - 146s 7s/step - loss: 3.3424 - accuracy: 0.2424 - val_loss: 5.1971 - val_accuracy: 0.0209\n",
      "Epoch 4/10\n",
      "20/20 [==============================] - 152s 8s/step - loss: 1.7767 - accuracy: 0.5710 - val_loss: 5.9142 - val_accuracy: 0.0257\n",
      "Epoch 5/10\n",
      "20/20 [==============================] - 146s 7s/step - loss: 0.9707 - accuracy: 0.7560 - val_loss: 6.9286 - val_accuracy: 0.0321\n",
      "Epoch 6/10\n",
      "20/20 [==============================] - 143s 7s/step - loss: 0.5670 - accuracy: 0.8692 - val_loss: 6.6730 - val_accuracy: 0.0225\n",
      "Epoch 7/10\n",
      "20/20 [==============================] - 142s 7s/step - loss: 0.3322 - accuracy: 0.9155 - val_loss: 7.6238 - val_accuracy: 0.0225\n",
      "Epoch 8/10\n",
      "20/20 [==============================] - 143s 7s/step - loss: 0.2405 - accuracy: 0.9442 - val_loss: 10.3465 - val_accuracy: 0.0257\n",
      "Epoch 9/10\n",
      "20/20 [==============================] - 143s 7s/step - loss: 0.1854 - accuracy: 0.9665 - val_loss: 8.5979 - val_accuracy: 0.0241\n",
      "Epoch 10/10\n",
      "20/20 [==============================] - 143s 7s/step - loss: 0.0704 - accuracy: 0.9777 - val_loss: 10.4836 - val_accuracy: 0.0241\n"
     ]
    }
   ],
   "source": [
    "\"\"\"\n",
    "Training the model.\n",
    "\n",
    "Based on Coding Three course material.\n",
    "\"\"\"\n",
    "import tensorflow as tf\n",
    "\n",
    "model.compile(optimizer='Adam',\n",
    "\tloss=tf.keras.losses.SparseCategoricalCrossentropy(from_logits=True),\n",
    "\tmetrics=['accuracy'])\n",
    "\n",
    "history = model.fit(train_images, train_labels, epochs=10, \n",
    "\tvalidation_data=(test_images, test_labels))"
   ]
  },
  {
   "cell_type": "code",
   "execution_count": null,
   "id": "7f477f33",
   "metadata": {},
   "outputs": [],
   "source": []
  }
 ],
 "metadata": {
  "kernelspec": {
   "display_name": "Python 3 (ipykernel)",
   "language": "python",
   "name": "python3"
  },
  "language_info": {
   "codemirror_mode": {
    "name": "ipython",
    "version": 3
   },
   "file_extension": ".py",
   "mimetype": "text/x-python",
   "name": "python",
   "nbconvert_exporter": "python",
   "pygments_lexer": "ipython3",
   "version": "3.9.16"
  }
 },
 "nbformat": 4,
 "nbformat_minor": 5
}
