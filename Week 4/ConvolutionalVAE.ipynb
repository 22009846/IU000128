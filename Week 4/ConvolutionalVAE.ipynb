{
 "cells": [
  {
   "cell_type": "markdown",
   "metadata": {},
   "source": [
    "Ignore this first cell; I'm using someone else's code to give the cells I haven't modified a light grey background. This is to help both you and myself distinguish between the code that matters and the code that doesn't."
   ]
  },
  {
   "cell_type": "code",
   "execution_count": 1,
   "metadata": {},
   "outputs": [],
   "source": [
    "from IPython.display import HTML, display\n",
    "\n",
    "def set_background(color):\n",
    "    script = (\n",
    "        \"var cell = this.closest('.code_cell');\"\n",
    "        \"var editor = cell.querySelector('.input_area');\"\n",
    "        \"editor.style.background='{}';\"\n",
    "        \"this.parentNode.removeChild(this)\"\n",
    "    ).format(color)\n",
    "    display(HTML('<img src onerror=\"{}\">'.format(script)))"
   ]
  },
  {
   "cell_type": "markdown",
   "metadata": {},
   "source": [
    "---"
   ]
  },
  {
   "cell_type": "code",
   "execution_count": 2,
   "metadata": {
    "id": "P1ExBFHWSkoa"
   },
   "outputs": [
    {
     "data": {
      "text/html": [
       "<img src onerror=\"var cell = this.closest('.code_cell');var editor = cell.querySelector('.input_area');editor.style.background='#d3d3d3';this.parentNode.removeChild(this)\">"
      ],
      "text/plain": [
       "<IPython.core.display.HTML object>"
      ]
     },
     "metadata": {},
     "output_type": "display_data"
    }
   ],
   "source": [
    "set_background('#d3d3d3')\n",
    "\n",
    "from __future__ import absolute_import\n",
    "from __future__ import division\n",
    "from __future__ import print_function\n",
    "\n",
    "from keras.layers import Lambda, Input, Dense\n",
    "from keras.models import Model\n",
    "from keras.datasets import mnist\n",
    "from keras.losses import mse, binary_crossentropy\n",
    "from keras.utils.vis_utils import plot_model\n",
    "from keras import backend as K\n",
    "\n",
    "from keras.layers import Conv2D, MaxPooling2D, UpSampling2D, Input\n",
    "from keras.layers import Reshape, Flatten, BatchNormalization, Activation\n",
    "\n",
    "import numpy as np\n",
    "import matplotlib.pyplot as plt\n",
    "import argparse\n",
    "import os\n",
    "\n",
    "\n",
    "def sampling(args):\n",
    "    \"\"\"\n",
    "    Reparameterization trick by sampling from an isotropic unit Gaussian.\n",
    "\n",
    "    # Arguments\n",
    "        args (tensor): mean and log of variance of Q(z|X)\n",
    "\n",
    "    # Returns\n",
    "        z (tensor): sampled latent vector\n",
    "    \"\"\"\n",
    "    z_mean, z_log_var = args\n",
    "    batch = K.shape(z_mean)[0]\n",
    "    dim = K.int_shape(z_mean)[1]\n",
    "    epsilon = K.random_normal(shape=(batch, dim))\n",
    "    return z_mean + K.exp(0.5 * z_log_var) * epsilon"
   ]
  },
  {
   "cell_type": "code",
   "execution_count": 3,
   "metadata": {
    "id": "ZPRLTu6HSks2"
   },
   "outputs": [
    {
     "data": {
      "text/html": [
       "<img src onerror=\"var cell = this.closest('.code_cell');var editor = cell.querySelector('.input_area');editor.style.background='#d3d3d3';this.parentNode.removeChild(this)\">"
      ],
      "text/plain": [
       "<IPython.core.display.HTML object>"
      ]
     },
     "metadata": {},
     "output_type": "display_data"
    },
    {
     "name": "stdout",
     "output_type": "stream",
     "text": [
      "We loaded the MNIST dataset:\n",
      "input_shape: (28, 28)\n",
      "x_train: (60000, 28, 28, 1)\n",
      "x_test: (10000, 28, 28, 1)\n"
     ]
    }
   ],
   "source": [
    "set_background('#d3d3d3')\n",
    "\n",
    "(x_train, y_train), (x_test, y_test) = mnist.load_data()\n",
    "\n",
    "image_size = x_train.shape[1]\n",
    "x_train = x_train.astype('float32') / 255\n",
    "x_test = x_test.astype('float32') / 255\n",
    "input_shape = x_train[0].shape\n",
    "x_train = np.reshape(x_train, x_train.shape + (1,))\n",
    "x_test = np.reshape(x_test, x_test.shape + (1,))\n",
    "\n",
    "print(\"We loaded the MNIST dataset:\")\n",
    "print(\"input_shape:\", input_shape)\n",
    "print(\"x_train:\", x_train.shape)\n",
    "print(\"x_test:\", x_test.shape)"
   ]
  },
  {
   "cell_type": "markdown",
   "metadata": {},
   "source": [
    "I first store the names of all the activation functions as well as the names of all the optimizers. I didn't end up using the latter in this final version of the notebook."
   ]
  },
  {
   "cell_type": "code",
   "execution_count": 4,
   "metadata": {},
   "outputs": [
    {
     "name": "stdout",
     "output_type": "stream",
     "text": [
      "'deserialize' appended\n",
      "'elu' appended\n",
      "'exponential' appended\n",
      "'gelu' appended\n",
      "'get' appended\n",
      "'hard_sigmoid' appended\n",
      "'linear' appended\n",
      "'relu' appended\n",
      "'selu' appended\n",
      "'serialize' appended\n",
      "'sigmoid' appended\n",
      "'softmax' appended\n",
      "'softplus' appended\n",
      "'softsign' appended\n",
      "'swish' appended\n",
      "'tanh' appended\n"
     ]
    }
   ],
   "source": [
    "import tensorflow.keras.activations\n",
    "\n",
    "tensorflow_keras_activations = tensorflow.keras.activations\n",
    "activation_function_names = []\n",
    "\n",
    "for name in dir(tensorflow_keras_activations):\n",
    "    if name[0] != '_':\n",
    "        activation_function_names.append(name)\n",
    "        print('\\'' + name + '\\' appended')"
   ]
  },
  {
   "cell_type": "code",
   "execution_count": 5,
   "metadata": {},
   "outputs": [
    {
     "name": "stdout",
     "output_type": "stream",
     "text": [
      "'Adadelta' appended\n",
      "'Adagrad' appended\n",
      "'Adam' appended\n",
      "'Adamax' appended\n",
      "'Ftrl' appended\n",
      "'Nadam' appended\n",
      "'RMSprop' appended\n",
      "'SGD' appended\n"
     ]
    }
   ],
   "source": [
    "import tensorflow.keras.optimizers\n",
    "\n",
    "tensorflow_keras_optimizers = tensorflow.keras.optimizers\n",
    "optimizer_names = []\n",
    "\n",
    "for name in dir(tensorflow_keras_optimizers):\n",
    "    if name[0].isupper() and name != 'Optimizer':   # Filters out class methods (e.g., get)\n",
    "                                                    # and the Optimizer abstract base class\n",
    "        optimizer_names.append(name)\n",
    "        print('\\'' + name + '\\' appended')"
   ]
  },
  {
   "cell_type": "markdown",
   "metadata": {},
   "source": [
    "The following three cells are essentially the same code provided for this week's homework, wrapped in a series of for loops with slight modifications to repeat the training process across all activation functions."
   ]
  },
  {
   "cell_type": "code",
   "execution_count": 6,
   "metadata": {
    "id": "ZAYt9EoQSoO9",
    "scrolled": false
   },
   "outputs": [],
   "source": [
    "model_data = []\n",
    "\n",
    "for activation_function_name in activation_function_names:\n",
    "#   for i in range(len(optimizer_names)):\n",
    "        try:\n",
    "            input_shape = (28, 28, 1)\n",
    "            latent_dim = 32\n",
    "\n",
    "            inputs = Input(shape=input_shape, name='encoder_input')\n",
    "\n",
    "            kernels = 26\n",
    "\n",
    "            x = Conv2D(kernels, (3), activation=activation_function_name, padding='same')(inputs)\n",
    "            x = MaxPooling2D((2), padding='same')(x)\n",
    "            x = Conv2D(int(kernels / 2), (3), activation=activation_function_name, padding='same')(x)\n",
    "            x = MaxPooling2D((2), padding='same')(x)\n",
    "            x = Conv2D(int(kernels / 4), (3), activation=activation_function_name, padding='same')(x)\n",
    "            x = MaxPooling2D((2), padding='same')(x)\n",
    "            intermediate_conv_shape = x.get_shape()\n",
    "            x = Flatten()(x)\n",
    "\n",
    "            x = BatchNormalization()(x)\n",
    "            x = Activation(activation_function_name)(x)\n",
    "\n",
    "            _, n, m, o = intermediate_conv_shape\n",
    "            intermediate_dim = n * m * o\n",
    "\n",
    "            z_mean = Dense(latent_dim, name='z_mean')(x)\n",
    "            z_log_var = Dense(latent_dim, name='z_log_var')(x)\n",
    "\n",
    "            z = Lambda(sampling, output_shape=(latent_dim,), name='z')([z_mean, z_log_var])\n",
    "\n",
    "            encoder = Model(inputs, [z_mean, z_log_var, z], name='encoder')\n",
    "\n",
    "            latent_inputs = Input(shape=(latent_dim,), name='z_sampling')\n",
    "            x = Dense(intermediate_dim, activation=activation_function_name)(latent_inputs)\n",
    "\n",
    "            x = BatchNormalization()(x)\n",
    "            x = Activation(activation_function_name)(x)\n",
    "\n",
    "            x = Reshape((n, m, o))(x)\n",
    "            x = Conv2D(int(kernels / 4), (3), activation=activation_function_name, padding='same')(x)\n",
    "            x = UpSampling2D((2))(x)\n",
    "            x = Conv2D(int(kernels / 2), (3), activation=activation_function_name, padding='same')(x)\n",
    "            x = UpSampling2D((2))(x)\n",
    "            x = Conv2D(int(kernels), (3), activation=activation_function_name)(x)\n",
    "            x = UpSampling2D((2))(x)\n",
    "            outputs = Conv2D(1, (3), activation=activation_function_name, padding='same')(x)\n",
    "\n",
    "            decoder = Model(latent_inputs, outputs, name='decoder')\n",
    "\n",
    "            outputs = decoder(encoder(inputs)[2])\n",
    "            vae = Model(inputs, outputs, name='vae_mlp')\n",
    "\n",
    "            # Here, I'm storing all the variables involved in the creation of each model\n",
    "            # in their order of appearence in the ongoing for loop.\n",
    "            # I realise that not all variables are necessary to store but this is easier.\n",
    "            model_data.append((\n",
    "                input_shape,\n",
    "                latent_dim,\n",
    "                inputs,\n",
    "                kernels,\n",
    "                x,\n",
    "                intermediate_conv_shape,\n",
    "                _,n,m,o,\n",
    "                intermediate_dim,\n",
    "                z_mean,\n",
    "                z_log_var,\n",
    "                z,\n",
    "                encoder,\n",
    "                latent_inputs,\n",
    "                outputs,\n",
    "                decoder,\n",
    "                outputs,\n",
    "                vae\n",
    "            ))\n",
    "        except:\n",
    "            continue # Skip method names (deserialize, get, serialize)"
   ]
  },
  {
   "cell_type": "code",
   "execution_count": 7,
   "metadata": {
    "id": "1QHpzrXMb582"
   },
   "outputs": [],
   "source": [
    "# from itertools import cycle\n",
    "\n",
    "# current_optimizer = cycle(optimizer_names)\n",
    "\n",
    "for (\n",
    "    input_shape,\n",
    "    latent_dim,\n",
    "    inputs,\n",
    "    kernels,\n",
    "    x,\n",
    "    intermediate_conv_shape,\n",
    "    _,n,m,o,\n",
    "    intermediate_dim,\n",
    "    z_mean,\n",
    "    z_log_var,\n",
    "    z,\n",
    "    encoder,\n",
    "    latent_inputs,\n",
    "    outputs,\n",
    "    decoder,\n",
    "    outputs,\n",
    "    vae\n",
    ") in model_data:\n",
    "    args_mse = False\n",
    "    if args_mse:\n",
    "        reconstruction_loss = mse(inputs, outputs)\n",
    "    else:\n",
    "        reconstruction_loss = binary_crossentropy(inputs, outputs)\n",
    "\n",
    "    m = input_shape[0] * input_shape[1]\n",
    "    reconstruction_loss *= m\n",
    "    reconstruction_loss = K.sum(reconstruction_loss)\n",
    "    kl_loss = 1 + z_log_var - K.square(z_mean) - K.exp(z_log_var)\n",
    "    kl_loss = K.sum(kl_loss, axis=-1)\n",
    "    kl_loss *= -0.5\n",
    "    vae_loss = K.mean(reconstruction_loss + kl_loss)\n",
    "    vae_loss /= m\n",
    "    vae_loss /= m\n",
    "    vae.add_loss(vae_loss)\n",
    "\n",
    "#   vae.compile(optimizer=next(current_optimizer))\n",
    "    vae.compile(optimizer='Adam')"
   ]
  },
  {
   "cell_type": "code",
   "execution_count": 8,
   "metadata": {
    "id": "4xG6_I67YjCl",
    "scrolled": true
   },
   "outputs": [
    {
     "name": "stdout",
     "output_type": "stream",
     "text": [
      "Epoch 1/10\n",
      "469/469 [==============================] - 112s 233ms/step - loss: 57.7391 - val_loss: 42.3733\n",
      "Epoch 2/10\n",
      "469/469 [==============================] - 106s 227ms/step - loss: 45.3363 - val_loss: 37.8171\n",
      "Epoch 3/10\n",
      "469/469 [==============================] - 107s 228ms/step - loss: 35.5180 - val_loss: 40.6865\n",
      "Epoch 4/10\n",
      "469/469 [==============================] - 104s 221ms/step - loss: 32.0321 - val_loss: 28.8691\n",
      "Epoch 5/10\n",
      "469/469 [==============================] - 103s 219ms/step - loss: 28.6304 - val_loss: 26.7083\n",
      "Epoch 6/10\n",
      "469/469 [==============================] - 106s 225ms/step - loss: 29.7500 - val_loss: 28.4960\n",
      "Epoch 7/10\n",
      "469/469 [==============================] - 104s 222ms/step - loss: 27.7564 - val_loss: 29.1484\n",
      "Epoch 8/10\n",
      "469/469 [==============================] - 106s 226ms/step - loss: 26.1691 - val_loss: 24.2200\n",
      "Epoch 9/10\n",
      "469/469 [==============================] - 105s 225ms/step - loss: 29.6611 - val_loss: 26.8896\n",
      "Epoch 10/10\n",
      "469/469 [==============================] - 105s 224ms/step - loss: 25.0237 - val_loss: 23.2836\n",
      "Epoch 1/10\n",
      "469/469 [==============================] - 101s 210ms/step - loss: nan - val_loss: nan\n",
      "Epoch 2/10\n",
      "469/469 [==============================] - 99s 211ms/step - loss: nan - val_loss: nan\n",
      "Epoch 3/10\n",
      "469/469 [==============================] - 99s 210ms/step - loss: nan - val_loss: nan\n",
      "Epoch 4/10\n",
      "469/469 [==============================] - 101s 215ms/step - loss: nan - val_loss: nan\n",
      "Epoch 5/10\n",
      "469/469 [==============================] - 100s 213ms/step - loss: nan - val_loss: nan\n",
      "Epoch 6/10\n",
      "469/469 [==============================] - 101s 215ms/step - loss: nan - val_loss: nan\n",
      "Epoch 7/10\n",
      "469/469 [==============================] - 100s 212ms/step - loss: nan - val_loss: nan\n",
      "Epoch 8/10\n",
      "469/469 [==============================] - 101s 215ms/step - loss: nan - val_loss: nan\n",
      "Epoch 9/10\n",
      "469/469 [==============================] - 100s 214ms/step - loss: nan - val_loss: nan\n",
      "Epoch 10/10\n",
      "469/469 [==============================] - 103s 219ms/step - loss: nan - val_loss: nan\n",
      "Epoch 1/10\n",
      "469/469 [==============================] - 119s 243ms/step - loss: 40.0795 - val_loss: 30.6088\n",
      "Epoch 2/10\n",
      "469/469 [==============================] - 112s 239ms/step - loss: 27.6002 - val_loss: 35.4964\n",
      "Epoch 3/10\n",
      "469/469 [==============================] - 112s 238ms/step - loss: 25.8091 - val_loss: 24.1186\n",
      "Epoch 4/10\n",
      "469/469 [==============================] - 109s 233ms/step - loss: 24.9811 - val_loss: 23.7065\n",
      "Epoch 5/10\n",
      "469/469 [==============================] - 110s 234ms/step - loss: 24.0902 - val_loss: 23.4358\n",
      "Epoch 6/10\n",
      "469/469 [==============================] - 110s 236ms/step - loss: 24.5288 - val_loss: 23.5312\n",
      "Epoch 7/10\n",
      "469/469 [==============================] - 109s 233ms/step - loss: 23.1987 - val_loss: 23.0866\n",
      "Epoch 8/10\n",
      "469/469 [==============================] - 111s 236ms/step - loss: 25.5542 - val_loss: 25.2736\n",
      "Epoch 9/10\n",
      "469/469 [==============================] - 110s 235ms/step - loss: 23.7211 - val_loss: 22.0416\n",
      "Epoch 10/10\n",
      "469/469 [==============================] - 109s 233ms/step - loss: 23.2921 - val_loss: 22.5503\n",
      "Epoch 1/10\n",
      "469/469 [==============================] - 125s 258ms/step - loss: 37.5395 - val_loss: 28.9482\n",
      "Epoch 2/10\n",
      "469/469 [==============================] - 117s 250ms/step - loss: 28.4391 - val_loss: 28.1636\n",
      "Epoch 3/10\n",
      "469/469 [==============================] - 116s 248ms/step - loss: 27.4290 - val_loss: 27.2567\n",
      "Epoch 4/10\n",
      "469/469 [==============================] - 120s 255ms/step - loss: 26.9596 - val_loss: 26.8570\n",
      "Epoch 5/10\n",
      "469/469 [==============================] - 115s 246ms/step - loss: 27.5523 - val_loss: 26.2131\n",
      "Epoch 6/10\n",
      "469/469 [==============================] - 116s 247ms/step - loss: 26.3488 - val_loss: 26.2970\n",
      "Epoch 7/10\n",
      "469/469 [==============================] - 114s 243ms/step - loss: 26.7905 - val_loss: 25.9815\n",
      "Epoch 8/10\n",
      "469/469 [==============================] - 114s 244ms/step - loss: 27.7998 - val_loss: 37.3333\n",
      "Epoch 9/10\n",
      "469/469 [==============================] - 116s 247ms/step - loss: 28.1230 - val_loss: 27.4172\n",
      "Epoch 10/10\n",
      "469/469 [==============================] - 116s 247ms/step - loss: 26.0306 - val_loss: 25.3147\n",
      "Epoch 1/10\n",
      "469/469 [==============================] - 108s 226ms/step - loss: 102.5256 - val_loss: 46.6631\n",
      "Epoch 2/10\n",
      "469/469 [==============================] - 107s 228ms/step - loss: 53.4529 - val_loss: 39.6320\n",
      "Epoch 3/10\n",
      "469/469 [==============================] - 108s 231ms/step - loss: 56.1152 - val_loss: 41.2474\n",
      "Epoch 4/10\n",
      "469/469 [==============================] - 108s 231ms/step - loss: 48.3959 - val_loss: 38.5514\n",
      "Epoch 5/10\n",
      "469/469 [==============================] - 110s 235ms/step - loss: 47.0699 - val_loss: 47.7927\n",
      "Epoch 6/10\n",
      "469/469 [==============================] - 108s 230ms/step - loss: 45.6731 - val_loss: 36.0000\n",
      "Epoch 7/10\n",
      "469/469 [==============================] - 105s 224ms/step - loss: 38.9964 - val_loss: 34.3190\n",
      "Epoch 8/10\n",
      "469/469 [==============================] - 108s 231ms/step - loss: 36.2237 - val_loss: 37.0428\n",
      "Epoch 9/10\n",
      "469/469 [==============================] - 108s 230ms/step - loss: 33.9669 - val_loss: 35.6214\n",
      "Epoch 10/10\n",
      "469/469 [==============================] - 105s 224ms/step - loss: 32.0326 - val_loss: 29.7791\n",
      "Epoch 1/10\n",
      "469/469 [==============================] - 109s 228ms/step - loss: 40.9923 - val_loss: 34.0242\n",
      "Epoch 2/10\n",
      "469/469 [==============================] - 105s 224ms/step - loss: 30.3654 - val_loss: 34.8691\n",
      "Epoch 3/10\n",
      "469/469 [==============================] - 105s 224ms/step - loss: 27.3616 - val_loss: 25.2619\n",
      "Epoch 4/10\n",
      "469/469 [==============================] - 105s 224ms/step - loss: 26.8462 - val_loss: 31.0048\n",
      "Epoch 5/10\n",
      "469/469 [==============================] - 104s 222ms/step - loss: 26.3156 - val_loss: 24.3582\n",
      "Epoch 6/10\n",
      "469/469 [==============================] - 106s 226ms/step - loss: 27.2343 - val_loss: 25.8708\n",
      "Epoch 7/10\n",
      "469/469 [==============================] - 105s 224ms/step - loss: 25.2877 - val_loss: 23.8466\n",
      "Epoch 8/10\n",
      "469/469 [==============================] - 103s 219ms/step - loss: 26.1839 - val_loss: 23.5504\n",
      "Epoch 9/10\n",
      "469/469 [==============================] - 105s 224ms/step - loss: 25.0854 - val_loss: 22.9602\n",
      "Epoch 10/10\n",
      "469/469 [==============================] - 106s 226ms/step - loss: 23.0503 - val_loss: 23.7016\n",
      "Epoch 1/10\n",
      "469/469 [==============================] - 106s 223ms/step - loss: 144.9969 - val_loss: 70.6850\n",
      "Epoch 2/10\n",
      "469/469 [==============================] - 107s 228ms/step - loss: 62.9108 - val_loss: 43.6213\n",
      "Epoch 3/10\n",
      "469/469 [==============================] - 106s 226ms/step - loss: 46.3248 - val_loss: 43.8968\n",
      "Epoch 4/10\n",
      "469/469 [==============================] - 106s 226ms/step - loss: 41.2431 - val_loss: 37.5398\n",
      "Epoch 5/10\n",
      "469/469 [==============================] - 105s 224ms/step - loss: 35.9906 - val_loss: 37.6370\n",
      "Epoch 6/10\n",
      "469/469 [==============================] - 107s 228ms/step - loss: 35.1020 - val_loss: 33.3337\n",
      "Epoch 7/10\n",
      "469/469 [==============================] - 107s 229ms/step - loss: 35.4078 - val_loss: 32.3465\n",
      "Epoch 8/10\n",
      "469/469 [==============================] - 105s 223ms/step - loss: 32.5900 - val_loss: 30.8855\n",
      "Epoch 9/10\n",
      "469/469 [==============================] - 108s 230ms/step - loss: 34.8563 - val_loss: 31.5964\n",
      "Epoch 10/10\n",
      "469/469 [==============================] - 105s 223ms/step - loss: 30.9167 - val_loss: 29.8213\n",
      "Epoch 1/10\n",
      "469/469 [==============================] - 111s 233ms/step - loss: 39.1360 - val_loss: 45.3683\n",
      "Epoch 2/10\n",
      "469/469 [==============================] - 107s 228ms/step - loss: 22.3036 - val_loss: 23.2456\n",
      "Epoch 3/10\n",
      "469/469 [==============================] - 110s 235ms/step - loss: 20.1361 - val_loss: 21.1779\n",
      "Epoch 4/10\n",
      "469/469 [==============================] - 109s 232ms/step - loss: 19.0403 - val_loss: 21.7258\n",
      "Epoch 5/10\n",
      "469/469 [==============================] - 107s 229ms/step - loss: 18.1495 - val_loss: 19.0950\n",
      "Epoch 6/10\n",
      "469/469 [==============================] - 105s 224ms/step - loss: 17.4413 - val_loss: 18.6789\n",
      "Epoch 7/10\n",
      "469/469 [==============================] - 107s 227ms/step - loss: 16.9122 - val_loss: 21.5374\n",
      "Epoch 8/10\n",
      "469/469 [==============================] - 107s 229ms/step - loss: 16.4941 - val_loss: 18.6859\n"
     ]
    },
    {
     "name": "stdout",
     "output_type": "stream",
     "text": [
      "Epoch 9/10\n",
      "469/469 [==============================] - 106s 226ms/step - loss: 16.1234 - val_loss: 16.5550\n",
      "Epoch 10/10\n",
      "469/469 [==============================] - 107s 229ms/step - loss: 15.8795 - val_loss: 16.7299\n",
      "Epoch 1/10\n",
      "469/469 [==============================] - 105s 220ms/step - loss: 55.7874 - val_loss: 50.4602\n",
      "Epoch 2/10\n",
      "469/469 [==============================] - 104s 222ms/step - loss: 37.4027 - val_loss: 33.7566\n",
      "Epoch 3/10\n",
      "469/469 [==============================] - 103s 219ms/step - loss: 33.2763 - val_loss: 32.6042\n",
      "Epoch 4/10\n",
      "469/469 [==============================] - 104s 223ms/step - loss: 32.7553 - val_loss: 32.3999\n",
      "Epoch 5/10\n",
      "469/469 [==============================] - 106s 226ms/step - loss: 32.3429 - val_loss: 31.9675\n",
      "Epoch 6/10\n",
      "469/469 [==============================] - 103s 220ms/step - loss: 31.7575 - val_loss: 31.2699\n",
      "Epoch 7/10\n",
      "469/469 [==============================] - 102s 218ms/step - loss: 31.5690 - val_loss: 31.2525\n",
      "Epoch 8/10\n",
      "469/469 [==============================] - 103s 220ms/step - loss: 31.4519 - val_loss: 31.0315\n",
      "Epoch 9/10\n",
      "469/469 [==============================] - 104s 222ms/step - loss: 31.3536 - val_loss: 30.9152\n",
      "Epoch 10/10\n",
      "469/469 [==============================] - 102s 218ms/step - loss: 31.2756 - val_loss: 30.8387\n",
      "Epoch 1/10\n",
      "469/469 [==============================] - 109s 230ms/step - loss: 33.2354 - val_loss: 292.1198\n",
      "Epoch 2/10\n",
      "469/469 [==============================] - 109s 232ms/step - loss: 25.4287 - val_loss: 27.2313\n",
      "Epoch 3/10\n",
      "469/469 [==============================] - 110s 235ms/step - loss: 24.0345 - val_loss: 23.1996\n",
      "Epoch 4/10\n",
      "469/469 [==============================] - 108s 230ms/step - loss: 21.5656 - val_loss: 28.4919\n",
      "Epoch 5/10\n",
      "469/469 [==============================] - 111s 236ms/step - loss: 20.6774 - val_loss: 23.2883\n",
      "Epoch 6/10\n",
      "469/469 [==============================] - 109s 231ms/step - loss: 20.4860 - val_loss: 25.0727\n",
      "Epoch 7/10\n",
      "469/469 [==============================] - 107s 228ms/step - loss: 19.5717 - val_loss: 55.1797\n",
      "Epoch 8/10\n",
      "469/469 [==============================] - 109s 233ms/step - loss: 18.1055 - val_loss: 17.8175\n",
      "Epoch 9/10\n",
      "469/469 [==============================] - 109s 233ms/step - loss: 17.2083 - val_loss: 20.1290\n",
      "Epoch 10/10\n",
      "469/469 [==============================] - 109s 233ms/step - loss: 17.3334 - val_loss: 113.5672\n",
      "Epoch 1/10\n",
      "469/469 [==============================] - 108s 226ms/step - loss: 52.0361 - val_loss: 45.8560\n",
      "Epoch 2/10\n",
      "469/469 [==============================] - 108s 230ms/step - loss: 42.9765 - val_loss: 37.2191\n",
      "Epoch 3/10\n",
      "469/469 [==============================] - 107s 228ms/step - loss: 33.9564 - val_loss: 31.1478\n",
      "Epoch 4/10\n",
      "469/469 [==============================] - 105s 225ms/step - loss: 30.9936 - val_loss: 29.7079\n",
      "Epoch 5/10\n",
      "469/469 [==============================] - 106s 226ms/step - loss: 30.8502 - val_loss: 29.6071\n",
      "Epoch 6/10\n",
      "469/469 [==============================] - 108s 230ms/step - loss: 29.3961 - val_loss: 27.8489\n",
      "Epoch 7/10\n",
      "469/469 [==============================] - 108s 229ms/step - loss: 28.4355 - val_loss: 27.3663\n",
      "Epoch 8/10\n",
      "469/469 [==============================] - 107s 228ms/step - loss: 27.6827 - val_loss: 27.5832\n",
      "Epoch 9/10\n",
      "469/469 [==============================] - 105s 224ms/step - loss: 27.0226 - val_loss: 25.9446\n",
      "Epoch 10/10\n",
      "469/469 [==============================] - 106s 227ms/step - loss: 26.8596 - val_loss: 26.2256\n",
      "Epoch 1/10\n",
      "469/469 [==============================] - 117s 243ms/step - loss: 42.1827 - val_loss: 32.5589\n",
      "Epoch 2/10\n",
      "469/469 [==============================] - 115s 246ms/step - loss: 28.1190 - val_loss: 25.8898\n",
      "Epoch 3/10\n",
      "469/469 [==============================] - 114s 244ms/step - loss: 25.2454 - val_loss: 28.2237\n",
      "Epoch 4/10\n",
      "469/469 [==============================] - 111s 237ms/step - loss: 24.3048 - val_loss: 22.6581\n",
      "Epoch 5/10\n",
      "469/469 [==============================] - 113s 240ms/step - loss: 23.1316 - val_loss: 22.5873\n",
      "Epoch 6/10\n",
      "469/469 [==============================] - 109s 232ms/step - loss: 26.0930 - val_loss: 24.5862\n",
      "Epoch 7/10\n",
      "469/469 [==============================] - 112s 239ms/step - loss: 23.1184 - val_loss: 21.8174\n",
      "Epoch 8/10\n",
      "469/469 [==============================] - 114s 242ms/step - loss: 22.9374 - val_loss: 25.3099\n",
      "Epoch 9/10\n",
      "469/469 [==============================] - 113s 241ms/step - loss: 22.6422 - val_loss: 21.1177\n",
      "Epoch 10/10\n",
      "469/469 [==============================] - 111s 237ms/step - loss: 21.5475 - val_loss: 20.2371\n",
      "Epoch 1/10\n",
      "469/469 [==============================] - 103s 216ms/step - loss: 56.0413 - val_loss: 42.1897\n",
      "Epoch 2/10\n",
      "469/469 [==============================] - 99s 211ms/step - loss: 37.6952 - val_loss: 32.0504\n",
      "Epoch 3/10\n",
      "469/469 [==============================] - 101s 215ms/step - loss: 36.0570 - val_loss: 31.0506\n",
      "Epoch 4/10\n",
      "469/469 [==============================] - 98s 209ms/step - loss: 31.1274 - val_loss: 29.2539\n",
      "Epoch 5/10\n",
      "469/469 [==============================] - 98s 209ms/step - loss: 29.8478 - val_loss: 28.8540\n",
      "Epoch 6/10\n",
      "469/469 [==============================] - 100s 213ms/step - loss: 28.4595 - val_loss: 27.4773\n",
      "Epoch 7/10\n",
      "469/469 [==============================] - 101s 215ms/step - loss: 27.4913 - val_loss: 26.4326\n",
      "Epoch 8/10\n",
      "469/469 [==============================] - 98s 209ms/step - loss: 26.9442 - val_loss: 25.6700\n",
      "Epoch 9/10\n",
      "469/469 [==============================] - 100s 213ms/step - loss: 27.3559 - val_loss: 27.4386\n",
      "Epoch 10/10\n",
      "469/469 [==============================] - 99s 212ms/step - loss: 26.6187 - val_loss: 26.5067\n",
      "Elapsed time:  13928.05053472519 s\n"
     ]
    }
   ],
   "source": [
    "import time\n",
    "\n",
    "batch_size = 128\n",
    "epochs = 10\n",
    "\n",
    "histories = []\n",
    "\n",
    "start_time = time.time()\n",
    "\n",
    "for (\n",
    "    input_shape,\n",
    "    latent_dim,\n",
    "    inputs,\n",
    "    kernels,\n",
    "    x,\n",
    "    intermediate_conv_shape,\n",
    "    _,n,m,o,\n",
    "    intermediate_dim,\n",
    "    z_mean,\n",
    "    z_log_var,\n",
    "    z,\n",
    "    encoder,\n",
    "    latent_inputs,\n",
    "    outputs,\n",
    "    decoder,\n",
    "    outputs,\n",
    "    vae\n",
    ") in model_data:\n",
    "    histories.append(vae.fit(x_train, epochs=epochs, shuffle=True, batch_size=batch_size, validation_data=(x_test, None)))\n",
    "\n",
    "end_time = time.time()\n",
    "elapsed_time = (end_time - start_time)\n",
    "print('Elapsed time: ', elapsed_time, 's')"
   ]
  },
  {
   "cell_type": "markdown",
   "metadata": {},
   "source": [
    "The cell below is self-explanatory."
   ]
  },
  {
   "cell_type": "code",
   "execution_count": 9,
   "metadata": {},
   "outputs": [],
   "source": [
    "activation_function_names.remove('deserialize')\n",
    "activation_function_names.remove('get')\n",
    "activation_function_names.remove('serialize')"
   ]
  },
  {
   "cell_type": "markdown",
   "metadata": {},
   "source": [
    "I now compare loss and val_loss across all activation functions per epoch through a set of line plots."
   ]
  },
  {
   "cell_type": "code",
   "execution_count": 10,
   "metadata": {
    "id": "Hz30ZMO72R26"
   },
   "outputs": [
    {
     "data": {
      "image/png": "[encoded data removed]",
      "text/plain": [
       "<Figure size 1000x300 with 2 Axes>"
      ]
     },
     "metadata": {},
     "output_type": "display_data"
    }
   ],
   "source": [
    "fig, (ax1, ax2) = plt.subplots(1, 2, figsize=(10, 3))\n",
    "ax1.set_xlabel('epoch')\n",
    "ax1.set_ylabel('loss')\n",
    "ax2.set_xlabel('epoch')\n",
    "ax2.set_ylabel('val_loss')\n",
    "\n",
    "epochs_array = list(range(epochs))\n",
    "for history, activation_function_name in zip(histories, activation_function_names):\n",
    "    ax1.plot(epochs_array, history.history['loss'], label=activation_function_name)\n",
    "    ax2.plot(epochs_array, history.history['val_loss'], label=activation_function_name)\n",
    "\n",
    "ax1.legend(loc='lower center', bbox_to_anchor=(0.5, 1.05))\n",
    "ax2.legend(loc='lower center', bbox_to_anchor=(0.5, 1.05))\n",
    "\n",
    "plt.show()"
   ]
  },
  {
   "cell_type": "markdown",
   "metadata": {},
   "source": [
    "The cell below contains selected lines from the example provided for this week's homework."
   ]
  },
  {
   "cell_type": "code",
   "execution_count": 11,
   "metadata": {},
   "outputs": [
    {
     "name": "stdout",
     "output_type": "stream",
     "text": [
      "1/1 [==============================] - 0s 120ms/step\n"
     ]
    }
   ],
   "source": [
    "x1 = x_test[73]\n",
    "x1_arr = np.asarray([x1])\n",
    "z, z_mean, z_log_var = encoder.predict(x1_arr)"
   ]
  },
  {
   "cell_type": "markdown",
   "metadata": {},
   "source": [
    "The final cell is a modified version of the reconstruction code provided for this week's homework."
   ]
  },
  {
   "cell_type": "code",
   "execution_count": 12,
   "metadata": {
    "id": "ZwZcDisYcn7K"
   },
   "outputs": [
    {
     "name": "stdout",
     "output_type": "stream",
     "text": [
      "1/1 [==============================] - 0s 94ms/step\n",
      "1/1 [==============================] - 0s 143ms/step\n",
      "1/1 [==============================] - 0s 172ms/step\n",
      "WARNING:tensorflow:5 out of the last 5 calls to <function Model.make_predict_function.<locals>.predict_function at 0x000002AA740E68B0> triggered tf.function retracing. Tracing is expensive and the excessive number of tracings could be due to (1) creating @tf.function repeatedly in a loop, (2) passing tensors with different shapes, (3) passing Python objects instead of tensors. For (1), please define your @tf.function outside of the loop. For (2), @tf.function has reduce_retracing=True option that can avoid unnecessary retracing. For (3), please refer to https://www.tensorflow.org/guide/function#controlling_retracing and https://www.tensorflow.org/api_docs/python/tf/function for  more details.\n",
      "1/1 [==============================] - 0s 183ms/step\n",
      "WARNING:tensorflow:6 out of the last 6 calls to <function Model.make_predict_function.<locals>.predict_function at 0x000002AA7525E4C0> triggered tf.function retracing. Tracing is expensive and the excessive number of tracings could be due to (1) creating @tf.function repeatedly in a loop, (2) passing tensors with different shapes, (3) passing Python objects instead of tensors. For (1), please define your @tf.function outside of the loop. For (2), @tf.function has reduce_retracing=True option that can avoid unnecessary retracing. For (3), please refer to https://www.tensorflow.org/guide/function#controlling_retracing and https://www.tensorflow.org/api_docs/python/tf/function for  more details.\n",
      "1/1 [==============================] - 0s 138ms/step\n",
      "1/1 [==============================] - 0s 142ms/step\n",
      "1/1 [==============================] - 0s 146ms/step\n",
      "1/1 [==============================] - 0s 139ms/step\n",
      "1/1 [==============================] - 0s 135ms/step\n",
      "1/1 [==============================] - 0s 129ms/step\n",
      "1/1 [==============================] - 0s 136ms/step\n",
      "1/1 [==============================] - 0s 166ms/step\n",
      "1/1 [==============================] - 0s 140ms/step\n"
     ]
    },
    {
     "data": {
      "image/png": "[encoded data removed]",
      "text/plain": [
       "<Figure size 640x480 with 15 Axes>"
      ]
     },
     "metadata": {},
     "output_type": "display_data"
    }
   ],
   "source": [
    "fig_, axarr = plt.subplots(3, 5)\n",
    "\n",
    "last_index = 0\n",
    "quit = False\n",
    "for i in range(3):\n",
    "    if quit == True:\n",
    "        break\n",
    "    for j in range(5):\n",
    "        if last_index == 13:\n",
    "            quit = True\n",
    "            break\n",
    "        \n",
    "        y1 = model_data[last_index][17].predict(z)\n",
    "        y1 = y1[0]\n",
    "        img = y1[:,:,0]\n",
    "\n",
    "        axarr[i][j].imshow(img, cmap='gray', vmin=0.0, vmax=1.0)\n",
    "        axarr[i][j].set_title(activation_function_names[last_index])\n",
    "\n",
    "        axarr[i][j].set_xticks([])\n",
    "        axarr[i][j].set_yticks([])\n",
    "\n",
    "        last_index += 1\n",
    "\n",
    "for i, j in zip([2, 2], [3, 4]):\n",
    "    axarr[i][j].set_xticks([])\n",
    "    axarr[i][j].set_yticks([])\n",
    "\n",
    "plt.show()"
   ]
  }
 ],
 "metadata": {
  "accelerator": "GPU",
  "colab": {
   "collapsed_sections": [],
   "name": "5.1_convolutional_VAE.ipynb",
   "provenance": []
  },
  "kernelspec": {
   "display_name": "Python 3 (ipykernel)",
   "language": "python",
   "name": "python3"
  },
  "language_info": {
   "codemirror_mode": {
    "name": "ipython",
    "version": 3
   },
   "file_extension": ".py",
   "mimetype": "text/x-python",
   "name": "python",
   "nbconvert_exporter": "python",
   "pygments_lexer": "ipython3",
   "version": "3.9.16"
  }
 },
 "nbformat": 4,
 "nbformat_minor": 1
}
